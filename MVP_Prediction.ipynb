{
  "nbformat": 4,
  "nbformat_minor": 0,
  "metadata": {
    "colab": {
      "provenance": [],
      "authorship_tag": "ABX9TyOGFhoS0Sgiv/yqiplgFva3",
      "include_colab_link": true
    },
    "kernelspec": {
      "name": "python3",
      "display_name": "Python 3"
    },
    "language_info": {
      "name": "python"
    }
  },
  "cells": [
    {
      "cell_type": "markdown",
      "metadata": {
        "id": "view-in-github",
        "colab_type": "text"
      },
      "source": [
        "<a href=\"https://colab.research.google.com/github/oribar1/MVP_Prediction/blob/main/MVP_Prediction.ipynb\" target=\"_parent\"><img src=\"https://colab.research.google.com/assets/colab-badge.svg\" alt=\"Open In Colab\"/></a>"
      ]
    },
    {
      "cell_type": "code",
      "execution_count": 56,
      "metadata": {
        "id": "eJi0tebnkLnS"
      },
      "outputs": [],
      "source": [
        "import pandas as pd\n",
        "import requests\n",
        "from bs4 import BeautifulSoup\n",
        "\n",
        "URL = \"https://www.basketball-reference.com/awards/awards_{}.html\"\n",
        "years = list(range(1992,2023))\n",
        "\n",
        "for year in years:\n",
        "  url = URL.format(year)\n",
        "  data = requests.get(url)\n",
        "\n",
        "  with open(\"/content/sample_data/mvp/{}.html\".format(year),'w+') as f:\n",
        "    f.write(data.text)"
      ]
    },
    {
      "cell_type": "code",
      "source": [
        "import IPython\n",
        "IPython.display.HTML(filename='/content/sample_data/mvp/1993.html')"
      ],
      "metadata": {
        "id": "VMmh-kE8SbwJ"
      },
      "execution_count": null,
      "outputs": []
    },
    {
      "cell_type": "code",
      "source": [
        "dfs =[]\n",
        "years = list(range(1992,2023))\n",
        "for year in years:\n",
        "  with open(\"/content/sample_data/mvp/{}.html\".format(year)) as f:\n",
        "    page = f.read()\n",
        "  soup = BeautifulSoup(page,\"html.parser\")\n",
        "  soup.find('tr',class_=\"over_header\").decompose()\n",
        "  mvp_table = soup.find(id=\"mvp\")\n",
        "  mvp = pd.read_html(str(mvp_table))[0]\n",
        "\n",
        "  dfs.append(mvp)\n",
        "\n"
      ],
      "metadata": {
        "id": "APurKnzeUMsd"
      },
      "execution_count": null,
      "outputs": []
    }
  ]
}